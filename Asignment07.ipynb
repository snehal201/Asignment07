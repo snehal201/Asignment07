{
 "cells": [
  {
   "cell_type": "code",
   "execution_count": 2,
   "metadata": {},
   "outputs": [],
   "source": [
    "import numpy as np"
   ]
  },
  {
   "cell_type": "code",
   "execution_count": 3,
   "metadata": {},
   "outputs": [],
   "source": [
    "import scipy.stats as s"
   ]
  },
  {
   "cell_type": "code",
   "execution_count": 4,
   "metadata": {},
   "outputs": [],
   "source": [
    "sample = np.random.exponential(scale=1.0,size=(1000000,2))"
   ]
  },
  {
   "cell_type": "code",
   "execution_count": 5,
   "metadata": {},
   "outputs": [],
   "source": [
    "#suppose that X1,X2,...Xn is a random sample from an exponential distribution with parameter λ,so we must equate E(X) to x̄.\n",
    "# for the exponential E(X)=1/λ. Therfor E(X)=x̄ results in 1/λ=x̄ so λ=1/x̄."
   ]
  },
  {
   "cell_type": "code",
   "execution_count": 6,
   "metadata": {},
   "outputs": [],
   "source": [
    "# from example of exponential distribution MLE \n",
    "# max likelihood estimator of λ is the reciprocal of the sample mean.This is the same as  estimator."
   ]
  },
  {
   "cell_type": "code",
   "execution_count": 7,
   "metadata": {},
   "outputs": [
    {
     "name": "stdout",
     "output_type": "stream",
     "text": [
      "λ_hat: \n",
      " 1.0003580679388993\n",
      "MVUE for Exponential Distribution : \n",
      " -1999284.5048489366\n"
     ]
    }
   ],
   "source": [
    "# λ_hat is the reciprocal of the sample mean\n",
    "lamda_hat =np.reciprocal(sample.mean())\n",
    "print (\"λ_hat: \\n\",lamda_hat) \n",
    "\n",
    "#we can calculate maximum loglikelihood from estimator(λ) .\n",
    "max_log_like=np.sum(s.expon.logpdf(sample,scale=lamda_hat))\n",
    "print (\"MVUE for Exponential Distribution : \\n\",max_log_like)"
   ]
  },
  {
   "cell_type": "code",
   "execution_count": 8,
   "metadata": {},
   "outputs": [
    {
     "name": "stdout",
     "output_type": "stream",
     "text": [
      "var(x̄*) : 0.5001867506824019\n"
     ]
    }
   ],
   "source": [
    "sample_mean = np.mean(sample,axis =1)\n",
    "#var(x̄*) ∝ 1/N (from central limit theoram (CLT))\n",
    "var_x_bar_star = np.var(sample_mean)\n",
    "print(\"var(x̄*) :\",var_x_bar_star)"
   ]
  },
  {
   "cell_type": "code",
   "execution_count": 9,
   "metadata": {},
   "outputs": [],
   "source": [
    "import seaborn as sns"
   ]
  },
  {
   "cell_type": "code",
   "execution_count": 10,
   "metadata": {},
   "outputs": [
    {
     "name": "stderr",
     "output_type": "stream",
     "text": [
      "C:\\Users\\HP\\anaconda3\\lib\\site-packages\\seaborn\\distributions.py:2551: FutureWarning: `distplot` is a deprecated function and will be removed in a future version. Please adapt your code to use either `displot` (a figure-level function with similar flexibility) or `histplot` (an axes-level function for histograms).\n",
      "  warnings.warn(msg, FutureWarning)\n"
     ]
    },
    {
     "data": {
      "text/plain": [
       "<AxesSubplot:ylabel='Density'>"
      ]
     },
     "execution_count": 10,
     "metadata": {},
     "output_type": "execute_result"
    },
    {
     "data": {
      "image/png": "[encoded data removed]",
      "text/plain": [
       "<Figure size 432x288 with 1 Axes>"
      ]
     },
     "metadata": {
      "needs_background": "light"
     },
     "output_type": "display_data"
    }
   ],
   "source": [
    "sns.distplot(sample_mean,bins=12,kde=True,fit=s.expon)"
   ]
  }
 ],
 "metadata": {
  "kernelspec": {
   "display_name": "Python 3",
   "language": "python",
   "name": "python3"
  },
  "language_info": {
   "codemirror_mode": {
    "name": "ipython",
    "version": 3
   },
   "file_extension": ".py",
   "mimetype": "text/x-python",
   "name": "python",
   "nbconvert_exporter": "python",
   "pygments_lexer": "ipython3",
   "version": "3.8.5"
  }
 },
 "nbformat": 4,
 "nbformat_minor": 4
}
